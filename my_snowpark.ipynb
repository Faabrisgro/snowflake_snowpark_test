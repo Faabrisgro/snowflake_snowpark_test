{
 "cells": [
  {
   "cell_type": "code",
   "execution_count": 1,
   "metadata": {},
   "outputs": [
    {
     "data": {
      "text/plain": [
       "<snowflake.snowpark.session.Session at 0x22930faaf10>"
      ]
     },
     "execution_count": 1,
     "metadata": {},
     "output_type": "execute_result"
    }
   ],
   "source": [
    "# Import the Session class from the snowflake.snowpark.session module\n",
    "from snowflake.snowpark.session import Session\n",
    "from dotenv import load_dotenv\n",
    "import os\n",
    "\n",
    "load_dotenv()\n",
    "\n",
    "account = os.environ.get(\"account\")\n",
    "user = os.environ.get(\"user\")\n",
    "password = os.environ.get(\"password\")\n",
    "role = os.environ.get(\"role\")\n",
    "warehouse = os.environ.get(\"warehouse\")\n",
    "database = os.environ.get(\"database\")\n",
    "schema = os.environ.get(\"schema\")\n",
    "\n",
    "# Create Session object\n",
    "def create_session_object():\n",
    "    # Define the connection parameters\n",
    "    connection_parameters = {\n",
    "      \"account\": account,\n",
    "      \"user\": user,\n",
    "      \"password\": password,\n",
    "      \"role\": role,\n",
    "      \"warehouse\": warehouse,\n",
    "      \"database\": database,\n",
    "      \"schema\": schema\n",
    "    }\n",
    "    \n",
    "    \n",
    "    # Create the session object with the provided connection parameters\n",
    "    session = Session.builder.configs(connection_parameters).create()\n",
    "    \n",
    "    # Print the contents of your session object\n",
    "    # Print(session)\n",
    "    \n",
    "    return session \n",
    "    \n",
    "    \n",
    "# Function call    \n",
    "create_session_object()\n"
   ]
  },
  {
   "cell_type": "code",
   "execution_count": 2,
   "metadata": {},
   "outputs": [],
   "source": [
    "# -------------------------------------------------\n",
    "#                CREATE A DATAFRAME\n",
    "# -------------------------------------------------\n",
    "\n",
    "# Import Libraries \n",
    "from snowflake.snowpark.functions import col\n",
    "\n",
    "def create_dataframe(session):\n",
    "  \n",
    "    # Create a dataframe\n",
    "    df_table = session.table(\"CALL_CENTER\")\n",
    "\n",
    "    #---------------------------------\n",
    "    # **ACTIONS**\n",
    "    #---------------------------------\n",
    "\n",
    "    # count method\n",
    "    df_table.count()\n",
    "    # print(df_table.count()) \n",
    "  \n",
    "    # show method\n",
    "    df_table.show()\n",
    "  \n",
    "    # collect method\n",
    "    df_results = df_table.collect()\n",
    "    # print(df_results) \n",
    "  \n",
    "    #---------------------------------\n",
    "    # **TRANSFORMATIONS **\n",
    "    #---------------------------------\n",
    "  \n",
    "    df_filtered = df_table.filter(col(\"CC_NAME\") == 'NY Metro')\n",
    "  \n",
    "    # Chaining method calls\n",
    "    # df_filtered = df_table.filter(col(\"AGE\") > 30).sort(col(\"AGE\").desc()).limit(10)\n",
    "\n",
    "    df_filtered.show()\n",
    "  \n",
    "    df_filtered.collect()\n",
    "  \n",
    "    df_filtered_persisted = df_filtered.collect()\n",
    "    # print(df_filtered_persisted)\n",
    "# ------------------------------------------------------------------------------------------------------------------\n"
   ]
  },
  {
   "cell_type": "code",
   "execution_count": 3,
   "metadata": {},
   "outputs": [
    {
     "name": "stdout",
     "output_type": "stream",
     "text": [
      "-------------------------------------------------------------------------------------------------------------------------------------------------------------------------------------------------------------------------------------------------------------------------------------------------------------------------------------------------------------------------------------------------------------------------------------------------------------------------------------------------------------------------------------------------------------------------------------------------------------------------------------------------------\n",
      "|\"CC_CALL_CENTER_SK\"  |\"CC_CALL_CENTER_ID\"  |\"CC_REC_START_DATE\"  |\"CC_REC_END_DATE\"  |\"CC_CLOSED_DATE_SK\"  |\"CC_OPEN_DATE_SK\"  |\"CC_NAME\"          |\"CC_CLASS\"  |\"CC_EMPLOYEES\"  |\"CC_SQ_FT\"   |\"CC_HOURS\"  |\"CC_MANAGER\"    |\"CC_MKT_ID\"  |\"CC_MKT_CLASS\"                                 |\"CC_MKT_DESC\"                                       |\"CC_MARKET_MANAGER\"  |\"CC_DIVISION\"  |\"CC_DIVISION_NAME\"  |\"CC_COMPANY\"  |\"CC_COMPANY_NAME\"  |\"CC_STREET_NUMBER\"  |\"CC_STREET_NAME\"  |\"CC_STREET_TYPE\"  |\"CC_SUITE_NUMBER\"  |\"CC_CITY\"      |\"CC_COUNTY\"            |\"CC_STATE\"  |\"CC_ZIP\"  |\"CC_COUNTRY\"   |\"CC_GMT_OFFSET\"  |\"CC_TAX_PERCENTAGE\"  |\n",
      "-------------------------------------------------------------------------------------------------------------------------------------------------------------------------------------------------------------------------------------------------------------------------------------------------------------------------------------------------------------------------------------------------------------------------------------------------------------------------------------------------------------------------------------------------------------------------------------------------------------------------------------------------------\n",
      "|1                    |AAAAAAAABAAAAAAA     |1998-01-01           |NULL               |NULL                 |2450952            |NY Metro           |large       |597159671       |481436415    |8AM-4PM     |Bob Belcher     |6            |More than other authori                        |Shared others could not count fully dollars. Ne...  |Julius Tran          |3              |pri                 |6             |cally              |730                 |Ash Hill          |Boulevard         |Suite 0            |Georgetown     |Harmon County          |OK          |77057     |United States  |-6.00            |0.11                 |\n",
      "|2                    |AAAAAAAACAAAAAAA     |1998-01-01           |2000-12-31         |NULL                 |2450806            |Mid Atlantic       |medium      |944879074       |682004404    |8AM-8AM     |Felipe Perkins  |2            |A bit narrow forms matter animals. Consist     |Largely blank years put substantially deaf, new...  |Julius Durham        |5              |anti                |1             |ought              |984                 |Center Hill       |Way               |Suite 70           |Friendship     |Raleigh County         |WV          |24536     |United States  |-5.00            |0.12                 |\n",
      "|3                    |AAAAAAAACAAAAAAA     |2001-01-01           |NULL               |NULL                 |2450806            |Mid Atlantic       |medium      |944879074       |-1813347006  |8AM-4PM     |Mark Hightower  |2            |Wrong troops shall work sometimes in a opti    |Largely blank years put substantially deaf, new...  |Julius Durham        |1              |ought               |2             |able               |984                 |Center Hill       |Way               |Suite 70           |Friendship     |Raleigh County         |WV          |24536     |United States  |-5.00            |0.01                 |\n",
      "|4                    |AAAAAAAAEAAAAAAA     |1998-01-01           |2000-01-01         |NULL                 |2451063            |North Midwest      |medium      |698330137       |-2050274463  |8AM-4PM     |Larry Mccray    |2            |Dealers make most historical, direct students  |Rich groups catch longer other fears; future,       |Matthew Clifton      |4              |ese                 |3             |pri                |463                 |Pine Ridge        |RD                |Suite U            |Spring Valley  |Saginaw County         |MI          |46060     |United States  |-5.00            |0.05                 |\n",
      "|5                    |AAAAAAAAEAAAAAAA     |2000-01-02           |2001-12-31         |NULL                 |2451063            |North Midwest      |small       |836464898       |-1675101422  |8AM-8AM     |Larry Mccray    |2            |Dealers make most historical, direct students  |Blue, due beds come. Politicians would not make...  |Gary Colburn         |4              |ese                 |3             |pri                |463                 |Pine Ridge        |RD                |Suite U            |Spring Valley  |Saginaw County         |MI          |46060     |United States  |-5.00            |0.12                 |\n",
      "|6                    |AAAAAAAAEAAAAAAA     |2002-01-01           |NULL               |NULL                 |2451063            |North Midwest      |medium      |1037570618      |1169407420   |8AM-4PM     |Larry Mccray    |5            |Silly particles could pro                      |Blue, due beds come. Politicians would not make...  |Gary Colburn         |5              |anti                |3             |pri                |463                 |Pine Ridge        |RD                |Suite U            |Spring Valley  |Saginaw County         |MI          |46060     |United States  |-5.00            |0.11                 |\n",
      "|7                    |AAAAAAAAHAAAAAAA     |1998-01-01           |NULL               |NULL                 |2451024            |Pacific Northwest  |small       |882146280       |-458616312   |8AM-4PM     |Alden Snyder    |6            |Major, formal states can suppor                |Reduced, subsequent bases could not lik             |Frederick Weaver     |5              |anti                |4             |ese                |415                 |Jefferson Tenth   |Court             |Suite 180          |Oak Hill       |Hubbard County         |MN          |57838     |United States  |-6.00            |0.00                 |\n",
      "|8                    |AAAAAAAAIAAAAAAA     |1998-01-01           |2000-12-31         |NULL                 |2450808            |California         |small       |5412266         |-1502238040  |8AM-12AM    |Wayne Ray       |6            |Here possible notions arrive only. Ar          |Common, free creditors should exper                 |Daniel Weller        |5              |anti                |2             |able               |550                 |Cedar Elm         |Ct.               |Suite I            |Five Points    |West Feliciana Parish  |LA          |76098     |United States  |-6.00            |0.06                 |\n",
      "|9                    |AAAAAAAAIAAAAAAA     |2001-01-01           |NULL               |NULL                 |2450808            |California         |medium      |769624682       |-1502238040  |8AM-12AM    |Wayne Ray       |6            |Here possible notions arrive only. Ar          |Too good moves can go just frequently new bodie...  |Evan Saldana         |2              |able                |2             |able               |550                 |Cedar Elm         |Ct.               |Suite I            |Five Points    |West Feliciana Parish  |LA          |76098     |United States  |-6.00            |0.11                 |\n",
      "|10                   |AAAAAAAAKAAAAAAA     |1998-01-01           |2000-01-01         |NULL                 |2451050            |Hawaii/Alaska      |large       |788007687       |-266990080   |8AM-8AM     |Gregory Altman  |2            |Just back responses ought                      |As existing eyebrows miss as the matters. Reali...  |James Mcdonald       |3              |pri                 |3             |pri                |457                 |1st               |Boulevard         |Suite B            |Buena Vista    |Huron County           |MI          |45752     |United States  |-5.00            |0.02                 |\n",
      "-------------------------------------------------------------------------------------------------------------------------------------------------------------------------------------------------------------------------------------------------------------------------------------------------------------------------------------------------------------------------------------------------------------------------------------------------------------------------------------------------------------------------------------------------------------------------------------------------------------------------------------------------------\n",
      "\n",
      "-----------------------------------------------------------------------------------------------------------------------------------------------------------------------------------------------------------------------------------------------------------------------------------------------------------------------------------------------------------------------------------------------------------------------------------------------------------------------------------------------------------------------------------------------------------------------------------------------------------\n",
      "|\"CC_CALL_CENTER_SK\"  |\"CC_CALL_CENTER_ID\"  |\"CC_REC_START_DATE\"  |\"CC_REC_END_DATE\"  |\"CC_CLOSED_DATE_SK\"  |\"CC_OPEN_DATE_SK\"  |\"CC_NAME\"  |\"CC_CLASS\"  |\"CC_EMPLOYEES\"  |\"CC_SQ_FT\"  |\"CC_HOURS\"  |\"CC_MANAGER\"  |\"CC_MKT_ID\"  |\"CC_MKT_CLASS\"           |\"CC_MKT_DESC\"                                       |\"CC_MARKET_MANAGER\"  |\"CC_DIVISION\"  |\"CC_DIVISION_NAME\"  |\"CC_COMPANY\"  |\"CC_COMPANY_NAME\"  |\"CC_STREET_NUMBER\"  |\"CC_STREET_NAME\"  |\"CC_STREET_TYPE\"  |\"CC_SUITE_NUMBER\"  |\"CC_CITY\"   |\"CC_COUNTY\"    |\"CC_STATE\"  |\"CC_ZIP\"  |\"CC_COUNTRY\"   |\"CC_GMT_OFFSET\"  |\"CC_TAX_PERCENTAGE\"  |\n",
      "-----------------------------------------------------------------------------------------------------------------------------------------------------------------------------------------------------------------------------------------------------------------------------------------------------------------------------------------------------------------------------------------------------------------------------------------------------------------------------------------------------------------------------------------------------------------------------------------------------------\n",
      "|1                    |AAAAAAAABAAAAAAA     |1998-01-01           |NULL               |NULL                 |2450952            |NY Metro   |large       |597159671       |481436415   |8AM-4PM     |Bob Belcher   |6            |More than other authori  |Shared others could not count fully dollars. Ne...  |Julius Tran          |3              |pri                 |6             |cally              |730                 |Ash Hill          |Boulevard         |Suite 0            |Georgetown  |Harmon County  |OK          |77057     |United States  |-6.00            |0.11                 |\n",
      "-----------------------------------------------------------------------------------------------------------------------------------------------------------------------------------------------------------------------------------------------------------------------------------------------------------------------------------------------------------------------------------------------------------------------------------------------------------------------------------------------------------------------------------------------------------------------------------------------------------\n",
      "\n"
     ]
    }
   ],
   "source": [
    "# FUNCTION CALLS\n",
    "\n",
    "# call session object\n",
    "session = create_session_object()\n",
    "\n",
    "# call create dataframe \n",
    "_ = create_dataframe(session) \n",
    "\n",
    "# end your session\n",
    "session.close()"
   ]
  }
 ],
 "metadata": {
  "kernelspec": {
   "display_name": "Python 3",
   "language": "python",
   "name": "python3"
  },
  "language_info": {
   "codemirror_mode": {
    "name": "ipython",
    "version": 3
   },
   "file_extension": ".py",
   "mimetype": "text/x-python",
   "name": "python",
   "nbconvert_exporter": "python",
   "pygments_lexer": "ipython3",
   "version": "3.11.5"
  }
 },
 "nbformat": 4,
 "nbformat_minor": 2
}
